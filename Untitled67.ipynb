{
 "cells": [
  {
   "cell_type": "code",
   "execution_count": null,
   "id": "f708474b-23cf-421d-a82d-d0545a991943",
   "metadata": {},
   "outputs": [],
   "source": [
    "Q1. Mean Absolute Error (MAE) would be a good regression metric to employ for predicting house prices based on characteristics like location, square footage, and number of bedrooms.\n",
    "\n",
    "Q2. Mean Squared Error (MSE) would be more appropriate if your goal is to predict the actual price of a house as accurately as possible.\n",
    "\n",
    "Q3. In the presence of outliers, using the Huber loss or Mean Absolute Error (MAE) as a regression metric would be the most appropriate choice for your SVM model.\n",
    "\n",
    "Q4. In this case, it's better to choose Mean Squared Error (MSE) as your evaluation metric, as it's the standard choice for regression models and is more interpretable than RMSE (Root Mean Squared Error).\n",
    "\n",
    "Q5. R-squared (R2) would be the most appropriate metric to measure how well the model explains the variance in the target variable when comparing different SVM regression models with different kernels."
   ]
  }
 ],
 "metadata": {
  "kernelspec": {
   "display_name": "Python 3 (ipykernel)",
   "language": "python",
   "name": "python3"
  },
  "language_info": {
   "codemirror_mode": {
    "name": "ipython",
    "version": 3
   },
   "file_extension": ".py",
   "mimetype": "text/x-python",
   "name": "python",
   "nbconvert_exporter": "python",
   "pygments_lexer": "ipython3",
   "version": "3.10.8"
  }
 },
 "nbformat": 4,
 "nbformat_minor": 5
}
